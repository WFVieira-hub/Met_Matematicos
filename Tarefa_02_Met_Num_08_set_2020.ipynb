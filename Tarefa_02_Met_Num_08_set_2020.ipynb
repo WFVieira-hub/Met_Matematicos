{
  "nbformat": 4,
  "nbformat_minor": 0,
  "metadata": {
    "colab": {
      "name": "Tarefa_02_Met_Num_08_set_2020.ipynb",
      "provenance": [],
      "collapsed_sections": [],
      "include_colab_link": true
    },
    "kernelspec": {
      "name": "python3",
      "display_name": "Python 3"
    }
  },
  "cells": [
    {
      "cell_type": "markdown",
      "metadata": {
        "id": "view-in-github",
        "colab_type": "text"
      },
      "source": [
        "<a href=\"https://colab.research.google.com/github/WFVieira-hub/Met_Matematicos/blob/master/Tarefa_02_Met_Num_08_set_2020.ipynb\" target=\"_parent\"><img src=\"https://colab.research.google.com/assets/colab-badge.svg\" alt=\"Open In Colab\"/></a>"
      ]
    },
    {
      "cell_type": "code",
      "metadata": {
        "id": "eK9P8bynKAO0",
        "colab_type": "code",
        "colab": {}
      },
      "source": [
        "import numpy as np\n",
        "import numpy.linalg as npla\n",
        "import time\n",
        "import matplotlib.pyplot as plt"
      ],
      "execution_count": 17,
      "outputs": []
    },
    {
      "cell_type": "code",
      "metadata": {
        "id": "pQjysWjVJ9HV",
        "colab_type": "code",
        "colab": {
          "base_uri": "https://localhost:8080/",
          "height": 72
        },
        "outputId": "dfe0a68c-d3d3-490a-9373-e02763dbd66c"
      },
      "source": [
        "!git clone https://github.com/ucfilho/Disciplina_Metodos_Numericos_2020 #clonar do Github\n",
        "%cd Disciplina_Metodos_Numericos_2020"
      ],
      "execution_count": 18,
      "outputs": [
        {
          "output_type": "stream",
          "text": [
            "fatal: destination path 'Disciplina_Metodos_Numericos_2020' already exists and is not an empty directory.\n",
            "/content/Disciplina_Metodos_Numericos_2020/Disciplina_Metodos_Numericos_2020/Disciplina_Metodos_Numericos_2020\n"
          ],
          "name": "stdout"
        }
      ]
    },
    {
      "cell_type": "code",
      "metadata": {
        "id": "0T_GJdknKHWA",
        "colab_type": "code",
        "colab": {}
      },
      "source": [
        "from GaussPivot import gauss"
      ],
      "execution_count": 19,
      "outputs": []
    },
    {
      "cell_type": "code",
      "metadata": {
        "id": "VE33FOG-xDOG",
        "colab_type": "code",
        "colab": {}
      },
      "source": [
        "from GaussSeidel import gauss_seidel"
      ],
      "execution_count": 20,
      "outputs": []
    },
    {
      "cell_type": "code",
      "metadata": {
        "id": "i0qySqXi41OD",
        "colab_type": "code",
        "colab": {}
      },
      "source": [
        "from Jacobi import jacobi"
      ],
      "execution_count": 21,
      "outputs": []
    },
    {
      "cell_type": "code",
      "metadata": {
        "id": "8YbcRVgu8BTh",
        "colab_type": "code",
        "colab": {}
      },
      "source": [
        "from SystemSOR import SOR"
      ],
      "execution_count": 22,
      "outputs": []
    },
    {
      "cell_type": "code",
      "metadata": {
        "id": "agJqchMqIku3",
        "colab_type": "code",
        "colab": {
          "base_uri": "https://localhost:8080/",
          "height": 514
        },
        "outputId": "27d3844f-0524-4481-afd8-85e71e10a1c7"
      },
      "source": [
        "# size of the matrix to be calculated\n",
        "SIZE = [10,50,100,200,400,600]\n",
        "\n",
        "# create list\n",
        "cpu_time_numpy = []\n",
        "cpu_time_mycode = []\n",
        "cpu_time_mycode1 = []\n",
        "cpu_time_mycode2 = []\n",
        "cpu_time_mycode3 = []\n",
        "cpu_time_mycode4 = []\n",
        "\n",
        "# loop over the size\n",
        "for size in SIZE :\n",
        "  # create the system\n",
        "  A = np.random.rand(size,size)\n",
        "  f = np.random.rand(size)\n",
        "  x0 = np.random.rand(size)\n",
        "  # nummpy\n",
        "  t0 = time.clock()\n",
        "  w=npla.solve(A,f)\n",
        "  cpu_time_numpy.append(time.clock()-t0)\n",
        "\n",
        "  # mycode\n",
        "  t0 = time.clock()\n",
        "  x= gauss(A,f)\n",
        "  cpu_time_mycode.append(time.clock()-t0)\n",
        "\n",
        "   # mycode 1\n",
        "  t0 = time.clock()\n",
        "  x= gauss_seidel(A,f,x0)\n",
        "  cpu_time_mycode1.append(time.clock()-t0)\n",
        "\n",
        "  # mycode 2\n",
        "  t0 = time.clock()\n",
        "  x= jacobi(A,f,x0)\n",
        "  cpu_time_mycode2.append(time.clock()-t0)\n",
        "\n",
        "  # mycode 3\n",
        "  t0 = time.clock()\n",
        "  x= SOR(A,f,x0)\n",
        "  cpu_time_mycode3.append(time.clock()-t0)\n",
        "\n",
        "   # mycode 4\n",
        "  t0 = time.clock()\n",
        "  x= SOR(A,f,x0,w=1.8)\n",
        "  cpu_time_mycode4.append(time.clock()-t0)\n",
        "\n",
        "\n",
        "# plot the results\n",
        "plt.semilogy(SIZE,cpu_time_numpy,'o-',linewidth=3, color='black',label='Numpy')\n",
        "plt.semilogy(SIZE,cpu_time_mycode,'o-',linewidth=3, color='tan',label='Gauss Pivot')\n",
        "plt.semilogy(SIZE,cpu_time_mycode1,'o-',linewidth=3, color='blue',label='Gauss Seidel')\n",
        "plt.semilogy(SIZE,cpu_time_mycode2,'o-',linewidth=3, color='red',label='Jacobi')\n",
        "plt.semilogy(SIZE,cpu_time_mycode3,'o-',linewidth=3, color='green',label='SOR w=1')\n",
        "plt.semilogy(SIZE,cpu_time_mycode4,'o-',linewidth=3, color='gray',label='SOR w=1.8')\n",
        "plt.xlabel('Size of the system'  )\n",
        "plt.ylabel('Computation Time')\n",
        "plt.xlim([0,1250])\n",
        "plt.legend(loc=1)\n",
        "plt.show()"
      ],
      "execution_count": 23,
      "outputs": [
        {
          "output_type": "stream",
          "text": [
            "/content/Disciplina_Metodos_Numericos_2020/GaussSeidel.py:40: RuntimeWarning: overflow encountered in double_scalars\n",
            "  x_new[i] = (f[i]-sum1-sum2)/A[i,i]\n",
            "/content/Disciplina_Metodos_Numericos_2020/GaussSeidel.py:35: RuntimeWarning: overflow encountered in double_scalars\n",
            "  sum1 += A[i,j]*x_new[j]\n",
            "/content/Disciplina_Metodos_Numericos_2020/GaussSeidel.py:35: RuntimeWarning: invalid value encountered in double_scalars\n",
            "  sum1 += A[i,j]*x_new[j]\n",
            "/content/Disciplina_Metodos_Numericos_2020/SystemSOR.py:11: RuntimeWarning: overflow encountered in double_scalars\n",
            "  x2[i]=(-a[i].dot(x2)+b[i])*w/a[i,i]+x2[i]\n",
            "/content/Disciplina_Metodos_Numericos_2020/Jacobi.py:32: RuntimeWarning: overflow encountered in double_scalars\n",
            "  sum += A[i,j]*x[j]\n",
            "/content/Disciplina_Metodos_Numericos_2020/Jacobi.py:33: RuntimeWarning: overflow encountered in double_scalars\n",
            "  xnew[i] = (f[i] - sum)/A[i,i]\n"
          ],
          "name": "stderr"
        },
        {
          "output_type": "display_data",
          "data": {
            "image/png": "[encoded data removed]",
            "text/plain": [
              "<Figure size 432x288 with 1 Axes>"
            ]
          },
          "metadata": {
            "tags": [],
            "needs_background": "light"
          }
        }
      ]
    }
  ]
}