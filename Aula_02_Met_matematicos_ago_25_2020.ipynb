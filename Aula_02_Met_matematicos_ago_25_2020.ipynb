{
  "nbformat": 4,
  "nbformat_minor": 0,
  "metadata": {
    "colab": {
      "name": "Aula_02_Met_matematicos_ago_25_2020.ipynb",
      "provenance": [],
      "authorship_tag": "ABX9TyO96yhorAsJM+uXh9dx90GD",
      "include_colab_link": true
    },
    "kernelspec": {
      "name": "python3",
      "display_name": "Python 3"
    }
  },
  "cells": [
    {
      "cell_type": "markdown",
      "metadata": {
        "id": "view-in-github",
        "colab_type": "text"
      },
      "source": [
        "<a href=\"https://colab.research.google.com/github/WFVieira-hub/Met_Matematicos/blob/master/Aula_02_Met_matematicos_ago_25_2020.ipynb\" target=\"_parent\"><img src=\"https://colab.research.google.com/assets/colab-badge.svg\" alt=\"Open In Colab\"/></a>"
      ]
    },
    {
      "cell_type": "code",
      "metadata": {
        "id": "cUy1g1ON4jpa",
        "colab_type": "code",
        "colab": {
          "base_uri": "https://localhost:8080/",
          "height": 34
        },
        "outputId": "5016b3e8-3cb8-43c8-93d6-47cf304e9011"
      },
      "source": [
        "# Primeiros comanados\n",
        "print(\"Hello word\")"
      ],
      "execution_count": 1,
      "outputs": [
        {
          "output_type": "stream",
          "text": [
            "Hello word\n"
          ],
          "name": "stdout"
        }
      ]
    },
    {
      "cell_type": "code",
      "metadata": {
        "id": "Bv33yTdU8gB7",
        "colab_type": "code",
        "colab": {
          "base_uri": "https://localhost:8080/",
          "height": 185
        },
        "outputId": "aebbc959-7c30-44fd-d229-73177a0c0ed9"
      },
      "source": [
        "# Laço for começa com zero obs: não tem and ---> (identação)\n",
        "for k in range(2):\n",
        "  for i in range(2):\n",
        "    for j in range(2):\n",
        "      print('k=',k,'i=',i,'j=',j)\n",
        "      #print('===================')\n",
        "    #print('==================')\n",
        "  print('==================')"
      ],
      "execution_count": 2,
      "outputs": [
        {
          "output_type": "stream",
          "text": [
            "k= 0 i= 0 j= 0\n",
            "k= 0 i= 0 j= 1\n",
            "k= 0 i= 1 j= 0\n",
            "k= 0 i= 1 j= 1\n",
            "==================\n",
            "k= 1 i= 0 j= 0\n",
            "k= 1 i= 0 j= 1\n",
            "k= 1 i= 1 j= 0\n",
            "k= 1 i= 1 j= 1\n",
            "==================\n"
          ],
          "name": "stdout"
        }
      ]
    },
    {
      "cell_type": "code",
      "metadata": {
        "id": "ObDhPMvu_mRh",
        "colab_type": "code",
        "colab": {
          "base_uri": "https://localhost:8080/",
          "height": 50
        },
        "outputId": "4d123f5b-60e1-4c4b-e8a4-4e99d95df826"
      },
      "source": [
        "x=[] # lista de valores, nome, matrix, ...\n",
        "w=[] # Lista dentro de outra lista\n",
        "for i in range(3):\n",
        "  for j in range(3):\n",
        "    x.append(j)\n",
        "  w.append(x)\n",
        "print(w)\n",
        "\n",
        "y=[] # Lista dentro de outra lista\n",
        "for i in range(3):\n",
        "  x=[] # reinia a lista x para cada novo elemento i\n",
        "  for j in range(3):\n",
        "    x.append(j)\n",
        "  y.append(x)\n",
        "print(y)"
      ],
      "execution_count": 3,
      "outputs": [
        {
          "output_type": "stream",
          "text": [
            "[[0, 1, 2, 0, 1, 2, 0, 1, 2], [0, 1, 2, 0, 1, 2, 0, 1, 2], [0, 1, 2, 0, 1, 2, 0, 1, 2]]\n",
            "[[0, 1, 2], [0, 1, 2], [0, 1, 2]]\n"
          ],
          "name": "stdout"
        }
      ]
    },
    {
      "cell_type": "code",
      "metadata": {
        "id": "aXeM4kcRDnPf",
        "colab_type": "code",
        "colab": {
          "base_uri": "https://localhost:8080/",
          "height": 151
        },
        "outputId": "ec104f9f-04b3-4b2c-8574-947ade0ed6b7"
      },
      "source": [
        "import pandas as pd\n",
        "import numpy as np\n",
        "df=pd.DataFrame(y) # conferteu em data frame\n",
        "df[3]=[1,2,3]      # adiciona a coluna de resultados \n",
        "mat=np.array(y)    # formato de calculo\n",
        "mat[0,1]=10\n",
        "print(df)\n",
        "print('------------------')\n",
        "print(mat)"
      ],
      "execution_count": 4,
      "outputs": [
        {
          "output_type": "stream",
          "text": [
            "   0  1  2  3\n",
            "0  0  1  2  1\n",
            "1  0  1  2  2\n",
            "2  0  1  2  3\n",
            "------------------\n",
            "[[ 0 10  2]\n",
            " [ 0  1  2]\n",
            " [ 0  1  2]]\n"
          ],
          "name": "stdout"
        }
      ]
    },
    {
      "cell_type": "code",
      "metadata": {
        "id": "1lYDqxpBD9pH",
        "colab_type": "code",
        "colab": {
          "base_uri": "https://localhost:8080/",
          "height": 70
        },
        "outputId": "a511183d-7591-48cf-c532-75f0ce611874"
      },
      "source": [
        "# Aula 02\n",
        "n=4\n",
        "y=[] # Lista dentro de outra lista\n",
        "for i in range(n):\n",
        "  x=[] # reinia a lista x para cada novo elemento i\n",
        "  for j in range(n):\n",
        "    x.append(j)\n",
        "  y.append(x)\n",
        "print(y)\n",
        "#--------------------------------------\n",
        "# Criar função\n",
        "#--------------------------------------\n",
        "def Lista(nn):\n",
        "  y=[] # Lista dentro de outra lista\n",
        "  for i in range(nn):\n",
        "    x=[] # reinia a lista x para cada novo elemento i\n",
        "    for j in range(nn):\n",
        "      x.append(j)\n",
        "    y.append(x)\n",
        "  return y\n",
        "\n",
        "w=Lista(6) # função criada nn=6\n",
        "print(w)\n"
      ],
      "execution_count": 8,
      "outputs": [
        {
          "output_type": "stream",
          "text": [
            "[[0, 1, 2, 3], [0, 1, 2, 3], [0, 1, 2, 3], [0, 1, 2, 3]]\n",
            "[[0, 1, 2, 3, 4, 5], [0, 1, 2, 3, 4, 5], [0, 1, 2, 3, 4, 5], [0, 1, 2, 3, 4, 5], [0, 1, 2, 3, 4, 5], [0, 1, 2, 3, 4, 5]]\n"
          ],
          "name": "stdout"
        }
      ]
    },
    {
      "cell_type": "code",
      "metadata": {
        "id": "OKkadH_kvV3I",
        "colab_type": "code",
        "colab": {
          "base_uri": "https://localhost:8080/",
          "height": 67
        },
        "outputId": "baf5f87a-59fe-4259-ded4-c1c5037e676b"
      },
      "source": [
        "# If teste logico\n",
        "\n",
        "m=4 # item avaliado\n",
        "if(m>2):\n",
        "  print('valor maior que 2')\n",
        "else:\n",
        "  print('valor menor ou igual que 2')\n",
        "print('-----------')\n",
        "\n",
        "m=10\n",
        "if(m>7):\n",
        "  print('valor maior que 7')\n",
        "elif(m>5):\n",
        "  print('valor entre 7 e 5')\n",
        "else:\n",
        "  print('valor menor ou igual a 7')\n"
      ],
      "execution_count": 10,
      "outputs": [
        {
          "output_type": "stream",
          "text": [
            "valor maior que 2\n",
            "-----------\n",
            "valor maior que 7\n"
          ],
          "name": "stdout"
        }
      ]
    },
    {
      "cell_type": "code",
      "metadata": {
        "id": "gnVP6feYxkZZ",
        "colab_type": "code",
        "colab": {
          "base_uri": "https://localhost:8080/",
          "height": 185
        },
        "outputId": "3e81f1f3-b6ce-4d22-8a52-7f033c6e1709"
      },
      "source": [
        "# while\n",
        "\n",
        "mm=10\n",
        "cont=0\n",
        "while(cont<mm):\n",
        "  cont=cont+1\n",
        "  print(cont)"
      ],
      "execution_count": 11,
      "outputs": [
        {
          "output_type": "stream",
          "text": [
            "1\n",
            "2\n",
            "3\n",
            "4\n",
            "5\n",
            "6\n",
            "7\n",
            "8\n",
            "9\n",
            "10\n"
          ],
          "name": "stdout"
        }
      ]
    },
    {
      "cell_type": "code",
      "metadata": {
        "id": "TwR7Ka_gwXmB",
        "colab_type": "code",
        "colab": {}
      },
      "source": [
        ""
      ],
      "execution_count": null,
      "outputs": []
    }
  ]
}