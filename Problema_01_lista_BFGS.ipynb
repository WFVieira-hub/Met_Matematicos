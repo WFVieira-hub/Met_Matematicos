{
  "nbformat": 4,
  "nbformat_minor": 0,
  "metadata": {
    "colab": {
      "name": "Tarefa_03_questao_01_BFGS.ipynb",
      "provenance": [],
      "include_colab_link": true
    },
    "kernelspec": {
      "name": "python3",
      "display_name": "Python 3"
    }
  },
  "cells": [
    {
      "cell_type": "markdown",
      "metadata": {
        "id": "view-in-github",
        "colab_type": "text"
      },
      "source": [
        "<a href=\"https://colab.research.google.com/github/WFVieira-hub/Met_Matematicos/blob/master/Problema_01_lista_BFGS.ipynb\" target=\"_parent\"><img src=\"https://colab.research.google.com/assets/colab-badge.svg\" alt=\"Open In Colab\"/></a>"
      ]
    },
    {
      "cell_type": "code",
      "metadata": {
        "id": "tLgv4gDnCbX1"
      },
      "source": [
        "import numpy  as np\n",
        "from scipy.optimize import minimize"
      ],
      "execution_count": 70,
      "outputs": []
    },
    {
      "cell_type": "markdown",
      "metadata": {
        "id": "FVxAOAAFLXNU"
      },
      "source": [
        "Van der waals\n",
        "\n",
        "- Calculo do Volume a 450 K e 56 atm"
      ]
    },
    {
      "cell_type": "code",
      "metadata": {
        "id": "AZJmGeqra0j2"
      },
      "source": [
        "def Minimo(v):\n",
        "  Tc = 405.5;\n",
        "  pc = 111.3;\n",
        "  R = 0.08206;\n",
        "  T = 450;\n",
        "  p = 56; \n",
        "  pr=p/pc;\n",
        "  a = (27/64) * ((R ** 2 * Tc ** 2)/ pc);\n",
        "  b = (1/8) * (R * Tc / pc);\n",
        "  Z = (p * v) / ((p + (a / v ** 2)) * (v - b))\n",
        "  return Z\n"
      ],
      "execution_count": 71,
      "outputs": []
    },
    {
      "cell_type": "code",
      "metadata": {
        "id": "XIC-e0jsJRVQ",
        "colab": {
          "base_uri": "https://localhost:8080/"
        },
        "outputId": "480c7aca-d7f6-48b2-a183-a21dcb873497"
      },
      "source": [
        "R = 0.08206;\n",
        "T = 450;\n",
        "p = 56;\n",
        "v0 = 1\n",
        "v0=np.array([v0]) # initial guess of volume of gas\n",
        "res = minimize(Minimo, v0, method='BFGS')\n",
        "print(res)\n",
        "print(\"V(L/g.mol)=\",res.x)"
      ],
      "execution_count": 72,
      "outputs": [
        {
          "output_type": "stream",
          "text": [
            "      fun: -1.5490903631194555e-05\n",
            " hess_inv: array([[8.95056677]])\n",
            "      jac: array([-0.01410729])\n",
            "  message: 'Desired error not necessarily achieved due to precision loss.'\n",
            "     nfev: 187\n",
            "      nit: 1\n",
            "     njev: 60\n",
            "   status: 2\n",
            "  success: False\n",
            "        x: array([0.00340395])\n",
            "V(L/g.mol)= [0.00340395]\n"
          ],
          "name": "stdout"
        }
      ]
    },
    {
      "cell_type": "markdown",
      "metadata": {
        "id": "HP7uAn8HL3Ep"
      },
      "source": [
        "Pr = 1, 2, 4, 10, and 20\n",
        "Calculo do Volume a 46 K e 56 atm"
      ]
    },
    {
      "cell_type": "code",
      "metadata": {
        "id": "6MMFK9F0LvVn"
      },
      "source": [
        "def Minimo1(v,pr):\n",
        "  Tc = 405.5;\n",
        "  pc = 111.3;\n",
        "  R = 0.08206;\n",
        "  T = 450;\n",
        "  p = 56; \n",
        "  #pr= 1;\n",
        "  a = (27/64) * ((R ** 2 * Tc ** 2 * pr)/ p);\n",
        "  b = (1/8) * (R * Tc * pr / p);\n",
        "  Z = (p * v) / ((p + (a / v ** 2)) * (v - b))\n",
        "  return Z"
      ],
      "execution_count": 73,
      "outputs": []
    },
    {
      "cell_type": "code",
      "metadata": {
        "id": "1Kkhs95VQ71Z",
        "colab": {
          "base_uri": "https://localhost:8080/"
        },
        "outputId": "a55873d0-1459-4f5d-a3f6-512daf90c0f3"
      },
      "source": [
        "pr = [1, 2, 4, 10, 20]\n",
        "\n",
        "for i in [1, 2, 4, 10, 20]:\n",
        "  pr=i\n",
        "  v0 = pr\n",
        "  v0=np.array([v0]) # initial guess of volume of gas\n",
        "  res[i] = minimize(Minimo1, v0, pr, method='BFGS')\n",
        "  print(pr,v0)\n",
        "  print(res[i])\n",
        "  print(\"V(L/g.mol)=\",res[i].x)"
      ],
      "execution_count": 101,
      "outputs": [
        {
          "output_type": "stream",
          "text": [
            "1 [1]\n",
            "      fun: 3.182447698256102e-10\n",
            " hess_inv: array([[5.75049161]])\n",
            "      jac: array([-6.26654302e-06])\n",
            "  message: 'Optimization terminated successfully.'\n",
            "     nfev: 51\n",
            "      nit: 11\n",
            "     njev: 17\n",
            "   status: 0\n",
            "  success: True\n",
            "        x: array([-0.00015224])\n",
            "V(L/g.mol)= [-0.00015224]\n",
            "2 [2]\n",
            "      fun: 5.609632782713824e-10\n",
            " hess_inv: array([[11.99542652]])\n",
            "      jac: array([-5.76104772e-06])\n",
            "  message: 'Optimization terminated successfully.'\n",
            "     nfev: 69\n",
            "      nit: 10\n",
            "     njev: 23\n",
            "   status: 0\n",
            "  success: True\n",
            "        x: array([-0.00029191])\n",
            "V(L/g.mol)= [-0.00029191]\n",
            "4 [4]\n",
            "      fun: 1.001608379770992\n",
            " hess_inv: array([[2963745.72087552]])\n",
            "      jac: array([-8.68737698e-06])\n",
            "  message: 'Optimization terminated successfully.'\n",
            "     nfev: 48\n",
            "      nit: 9\n",
            "     njev: 16\n",
            "   status: 0\n",
            "  success: True\n",
            "        x: array([182.99355245])\n",
            "V(L/g.mol)= [182.99355245]\n",
            "10 [10]\n",
            "      fun: 1.0025087031140056\n",
            " hess_inv: array([[4881810.96757648]])\n",
            "      jac: array([-8.46385956e-06])\n",
            "  message: 'Optimization terminated successfully.'\n",
            "     nfev: 51\n",
            "      nit: 12\n",
            "     njev: 17\n",
            "   status: 0\n",
            "  success: True\n",
            "        x: array([294.79917305])\n",
            "V(L/g.mol)= [294.79917305]\n",
            "20 [20]\n",
            "      fun: 1.0038518144732482\n",
            " hess_inv: array([[5393975.57473548]])\n",
            "      jac: array([-9.983778e-06])\n",
            "  message: 'Optimization terminated successfully.'\n",
            "     nfev: 51\n",
            "      nit: 12\n",
            "     njev: 17\n",
            "   status: 0\n",
            "  success: True\n",
            "        x: array([385.14129513])\n",
            "V(L/g.mol)= [385.14129513]\n"
          ],
          "name": "stdout"
        }
      ]
    }
  ]
}