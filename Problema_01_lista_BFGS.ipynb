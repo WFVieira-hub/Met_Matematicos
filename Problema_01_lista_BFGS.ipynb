{
  "nbformat": 4,
  "nbformat_minor": 0,
  "metadata": {
    "colab": {
      "name": "Tarefa_03_questao_01_BFGS.ipynb",
      "provenance": [],
      "include_colab_link": true
    },
    "kernelspec": {
      "name": "python3",
      "display_name": "Python 3"
    }
  },
  "cells": [
    {
      "cell_type": "markdown",
      "metadata": {
        "id": "view-in-github",
        "colab_type": "text"
      },
      "source": [
        "<a href=\"https://colab.research.google.com/github/WFVieira-hub/Met_Matematicos/blob/master/Problema_01_lista_BFGS.ipynb\" target=\"_parent\"><img src=\"https://colab.research.google.com/assets/colab-badge.svg\" alt=\"Open In Colab\"/></a>"
      ]
    },
    {
      "cell_type": "code",
      "metadata": {
        "id": "tLgv4gDnCbX1"
      },
      "source": [
        "import numpy  as np\n",
        "from scipy.optimize import minimize"
      ],
      "execution_count": null,
      "outputs": []
    },
    {
      "cell_type": "markdown",
      "metadata": {
        "id": "FVxAOAAFLXNU"
      },
      "source": [
        "Redlich-Kwong\n",
        "\n",
        "- Calculo do Volume a 500 K e 18 atm"
      ]
    },
    {
      "cell_type": "code",
      "metadata": {
        "id": "AZJmGeqra0j2"
      },
      "source": [
        "def Minimo(v):\n",
        "  Tc = 405.5;\n",
        "  pc = 111.3;\n",
        "  R = 0.08206;\n",
        "  T = 450;\n",
        "  p = 56; \n",
        "  pr=p/pc;\n",
        "  a = (27/64) * ((R ** 2 * Tc ** 2)/ pc);\n",
        "  b = (1/8) * (R * Tc / pc);\n",
        "  Z = pv / ((p + (a / v ** 2)) * (v - b))\n",
        "  return Z\n"
      ],
      "execution_count": null,
      "outputs": []
    },
    {
      "cell_type": "markdown",
      "metadata": {
        "id": "IsridphGAxF9"
      },
      "source": [
        "$P.V^3 - R.T.V^2 + (aRK - P.bRK^2 - R.T.bRK).V - aRK.bRK=0$\n",
        "\n",
        "$Tc=425.2$\n",
        "\n",
        "$Pc=37.5$\n",
        "\n",
        "$R=0.008206$\n",
        "\n",
        "$aRK= \\dfrac{0.42748(R.Tc)^2}{Pc.\\left(\\dfrac{Tc}{T}\\right)^{0.5}}$\n",
        "\n",
        "$bRK = 0.08664\\left(\\dfrac{R.Tc}{Pc}\\right)$\n",
        "\n",
        "\n"
      ]
    },
    {
      "cell_type": "code",
      "metadata": {
        "id": "XIC-e0jsJRVQ",
        "colab": {
          "base_uri": "https://localhost:8080/",
          "height": 212
        },
        "outputId": "3e8d416e-f18c-4cc4-92bf-9f9f3e416efa"
      },
      "source": [
        "R = 0.08206;\n",
        "T = 450;\n",
        "p = 56;\n",
        "v0 = R*T/p\n",
        "v0=np.array([v0]) # initial guess of volume of gas\n",
        "res = minimize(Minimo, v0, method='BFGS')\n",
        "print(res)\n",
        "print(\"V(L/g.mol)=\",res.x)"
      ],
      "execution_count": null,
      "outputs": [
        {
          "output_type": "stream",
          "text": [
            "      fun: -18.93636048555553\n",
            " hess_inv: array([[0.01457522]])\n",
            "      jac: array([2.38418579e-07])\n",
            "  message: 'Optimization terminated successfully.'\n",
            "     nfev: 21\n",
            "      nit: 6\n",
            "     njev: 7\n",
            "   status: 0\n",
            "  success: True\n",
            "        x: array([1.39521604])\n",
            "V(m³)= [1.39521604]\n"
          ],
          "name": "stdout"
        }
      ]
    },
    {
      "cell_type": "markdown",
      "metadata": {
        "id": "HP7uAn8HL3Ep"
      },
      "source": [
        "Peng-Robson\n",
        "\n",
        "Calculo do Volume a 500 K e 18 atm"
      ]
    },
    {
      "cell_type": "code",
      "metadata": {
        "id": "6MMFK9F0LvVn"
      },
      "source": [
        "def Minimo1(v):\n",
        "  Tc = 425.2;\n",
        "  pc = 37.5;\n",
        "  R = 0.08206;\n",
        "  T = 500;\n",
        "  p = 18; \n",
        "  acentric = 0.193;\n",
        "  mPR = 0.37363 + (1.54226 - 0.26992*acentric)*acentric;\n",
        "  alphaPR = (1 + mPR *(1-(T/Tc)**0.5)) ** 2;\n",
        "  aPR = 0.45724 * alphaPR * (R * Tc) ** 2 / pc;\n",
        "  bPR = 0.07780 * (R * Tc / pc);\n",
        "  Z=p*v**3 + (bPR*p - R*T)*v**2 + (aPR - p*bPR**2 - R*T*bPR)*v + (p*bPR**3 + R*T*bPR**2-aPR*bPR)\n",
        "  return Z"
      ],
      "execution_count": null,
      "outputs": []
    },
    {
      "cell_type": "markdown",
      "metadata": {
        "id": "8wgKHNNxMy26"
      },
      "source": [
        "$\\beta=0.193$\n",
        "\n",
        "$\\mu_{PR} = 0.37363 + (1.54226 - 0.26992\\beta).\\beta$\n",
        "\n",
        "$\\alpha_{PR} = 1 + \\mu_{PR}.\\left(1-\\left(\\dfrac{T}{Tc}\\right)^{0.5}\\right)^2$\n",
        "\n",
        "$a_{PR} = 0.45724 . \\dfrac{\\alpha_{PR}.(R.Tc)^2}{Pc}$\n",
        "\n",
        "$b_{PR} = 0.07780 . \\left(\\dfrac{R . Tc}{Pc}\\right)$\n",
        "\n",
        "$P.V^3+(b_{PR}.P - R.T).V^2+(a_{PR} - P.b_{PR}^2 - R.T.b_{PR}).V  + (P.b_{PR}^3 + R.T.b_{PR}^2 - a_{PR}.b_{PR}) = 0$"
      ]
    },
    {
      "cell_type": "code",
      "metadata": {
        "id": "1Kkhs95VQ71Z",
        "colab": {
          "base_uri": "https://localhost:8080/",
          "height": 212
        },
        "outputId": "5e0e2391-e1bc-4e31-8f25-c9cf79d287da"
      },
      "source": [
        "v0 = R*T/p\n",
        "v0=np.array([v0]) # initial guess of volume of gas\n",
        "res = minimize(Minimo1, v0, method='BFGS')\n",
        "print(res)\n",
        "print(\"V(m³)=\",res.x)"
      ],
      "execution_count": null,
      "outputs": [
        {
          "output_type": "stream",
          "text": [
            "      fun: -15.136519900513449\n",
            " hess_inv: array([[0.0155671]])\n",
            "      jac: array([-2.38418579e-06])\n",
            "  message: 'Optimization terminated successfully.'\n",
            "     nfev: 18\n",
            "      nit: 5\n",
            "     njev: 6\n",
            "   status: 0\n",
            "  success: True\n",
            "        x: array([1.32974826])\n",
            "V(m³)= [1.32974826]\n"
          ],
          "name": "stdout"
        }
      ]
    }
  ]
}