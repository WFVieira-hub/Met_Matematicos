{
  "nbformat": 4,
  "nbformat_minor": 0,
  "metadata": {
    "colab": {
      "name": "Tarefa_03_questao_02_BFGS.ipynb",
      "provenance": [],
      "include_colab_link": true
    },
    "kernelspec": {
      "name": "python3",
      "display_name": "Python 3"
    }
  },
  "cells": [
    {
      "cell_type": "markdown",
      "metadata": {
        "id": "view-in-github",
        "colab_type": "text"
      },
      "source": [
        "<a href=\"https://colab.research.google.com/github/WFVieira-hub/Met_Matematicos/blob/master/Tarefa_03_questao_02_BFGS.ipynb\" target=\"_parent\"><img src=\"https://colab.research.google.com/assets/colab-badge.svg\" alt=\"Open In Colab\"/></a>"
      ]
    },
    {
      "cell_type": "code",
      "metadata": {
        "id": "tLgv4gDnCbX1"
      },
      "source": [
        "import numpy  as np\n",
        "from scipy.optimize import minimize"
      ],
      "execution_count": 47,
      "outputs": []
    },
    {
      "cell_type": "code",
      "metadata": {
        "id": "AZJmGeqra0j2"
      },
      "source": [
        "def Minimo(x):\n",
        "  kc1=1.06;\n",
        "  kc2=2.63;\n",
        "  kc3=5;\n",
        "  # CA0=CB0=1.5\n",
        "  F1=kc1 - x[2]*x[3]/x[0]*x[1]\n",
        "  F2=kc2 - x[4]*x[5]/x[1]*x[2]\n",
        "  F3=kc3 - x[6]/x[1]*x[4]\n",
        "  F4=x[0] - 1.5 + x[3] + x[6]\n",
        "  F5=x[1] - 1.5 + x[3] + x[5]\n",
        "  F6=x[2] - x[3] + x[5]\n",
        "  F7=x[5] - x[4] - x[6]\n",
        "  Valor=abs(F1)+abs(F2)+abs(F3)+abs(F4)+abs(F5)+abs(F6)+abs(F7)\n",
        "  return Valor"
      ],
      "execution_count": 48,
      "outputs": []
    },
    {
      "cell_type": "markdown",
      "metadata": {
        "id": "Jn4KKkcttM4Z"
      },
      "source": [
        "![Tarefa_03_questao_02.PNG](data:image/png;base64,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)"
      ]
    },
    {
      "cell_type": "code",
      "metadata": {
        "id": "XIC-e0jsJRVQ",
        "outputId": "4792abfb-07b9-482f-fdfb-29e0f990e4f4",
        "colab": {
          "base_uri": "https://localhost:8080/",
          "height": 106
        }
      },
      "source": [
        "x0=np.array([1,1,1,1,1,1,1]) # initial guess of x\n",
        "res = minimize(Minimo, x0, method='BFGS',options={'gtol': 1e-10, 'disp': True})"
      ],
      "execution_count": 49,
      "outputs": [
        {
          "output_type": "stream",
          "text": [
            "Warning: Desired error not necessarily achieved due to precision loss.\n",
            "         Current function value: 6.198628\n",
            "         Iterations: 4\n",
            "         Function evaluations: 1344\n",
            "         Gradient evaluations: 148\n"
          ],
          "name": "stdout"
        }
      ]
    },
    {
      "cell_type": "code",
      "metadata": {
        "id": "9vlafSt5LErN",
        "outputId": "d47e3b41-1bdc-4caf-f2b0-aa69910087dd",
        "colab": {
          "base_uri": "https://localhost:8080/",
          "height": 195
        }
      },
      "source": [
        "print('fun=',res.fun)\n",
        "print('resposta=',res.x)\n",
        "print('Ca =',res.x[0])\n",
        "print('Cb =',res.x[1])\n",
        "print('Cc =',res.x[2])\n",
        "print('Cd =',res.x[3])\n",
        "print('Cx =',res.x[4])\n",
        "print('Cy =',res.x[5])\n",
        "print('Cz =',res.x[6])"
      ],
      "execution_count": 54,
      "outputs": [
        {
          "output_type": "stream",
          "text": [
            "fun= 6.19862819814402\n",
            "resposta= [0.13672378 0.15985016 1.13450591 0.87570881 1.29896672 0.67429507\n",
            " 0.61529737]\n",
            "Ca = 0.13672378356054785\n",
            "Cb = 0.1598501585247966\n",
            "Cc = 1.1345059144949752\n",
            "Cd = 0.8757088062711439\n",
            "Cx = 1.2989667241256064\n",
            "Cy = 0.6742950742346062\n",
            "Cz = 0.6152973656025386\n"
          ],
          "name": "stdout"
        }
      ]
    },
    {
      "cell_type": "code",
      "metadata": {
        "id": "UocQ-cq_Mn94"
      },
      "source": [
        "# https://sudonull.com/post/68834-BFGS-method-or-one-of-the-most-effective-optimization-methods-Python-implementation-example"
      ],
      "execution_count": 51,
      "outputs": []
    }
  ]
}