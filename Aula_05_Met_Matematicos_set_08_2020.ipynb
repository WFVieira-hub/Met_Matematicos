{
  "nbformat": 4,
  "nbformat_minor": 0,
  "metadata": {
    "colab": {
      "name": "Aula_05_Met_Matematicos_set_08_2020.ipynb",
      "provenance": [],
      "include_colab_link": true
    },
    "kernelspec": {
      "name": "python3",
      "display_name": "Python 3"
    }
  },
  "cells": [
    {
      "cell_type": "markdown",
      "metadata": {
        "id": "view-in-github",
        "colab_type": "text"
      },
      "source": [
        "<a href=\"https://colab.research.google.com/github/WFVieira-hub/Met_Matematicos/blob/master/Aula_05_Met_Matematicos_set_08_2020.ipynb\" target=\"_parent\"><img src=\"https://colab.research.google.com/assets/colab-badge.svg\" alt=\"Open In Colab\"/></a>"
      ]
    },
    {
      "cell_type": "code",
      "metadata": {
        "id": "cNPf8E-OtQao",
        "colab_type": "code",
        "colab": {}
      },
      "source": [
        "import numpy as np"
      ],
      "execution_count": null,
      "outputs": []
    },
    {
      "cell_type": "code",
      "metadata": {
        "id": "Bj6dZBfMurS-",
        "colab_type": "code",
        "colab": {
          "base_uri": "https://localhost:8080/",
          "height": 70
        },
        "outputId": "57d1eb41-f556-4b3e-ba58-b459b4c262d2"
      },
      "source": [
        "A = np.array([[0.9 ,0.3 ,0.1] ,[0.1 ,0.5 ,0.2] , [0.0 ,0.2 ,0.7]])\n",
        "b = np.array([30.0 ,25.0 ,10.0])\n",
        "print(A)"
      ],
      "execution_count": null,
      "outputs": [
        {
          "output_type": "stream",
          "text": [
            "[[0.9 0.3 0.1]\n",
            " [0.1 0.5 0.2]\n",
            " [0.  0.2 0.7]]\n"
          ],
          "name": "stdout"
        }
      ]
    },
    {
      "cell_type": "code",
      "metadata": {
        "id": "_5-4HQX5u-uY",
        "colab_type": "code",
        "colab": {}
      },
      "source": [
        "#  GAUSS SIDEL CONVERGE\n",
        "# A is symmetric positive-definite --->positive definite if and only if all of its eigenvalues are positive.\n",
        "# A is strictly or irreducibly diagonally dominant"
      ],
      "execution_count": null,
      "outputs": []
    },
    {
      "cell_type": "code",
      "metadata": {
        "id": "8c8sKcVUvT20",
        "colab_type": "code",
        "colab": {}
      },
      "source": [
        "eigenvalues,eigenvectors =np.linalg.eig(A)"
      ],
      "execution_count": null,
      "outputs": []
    },
    {
      "cell_type": "code",
      "metadata": {
        "id": "gblkiwUpwEDK",
        "colab_type": "code",
        "colab": {
          "base_uri": "https://localhost:8080/",
          "height": 35
        },
        "outputId": "6b7bd36e-1aad-4fd7-8a16-398b5b244911"
      },
      "source": [
        "print(eigenvalues)"
      ],
      "execution_count": null,
      "outputs": [
        {
          "output_type": "stream",
          "text": [
            "[0.34384472 1.         0.75615528]\n"
          ],
          "name": "stdout"
        }
      ]
    },
    {
      "cell_type": "code",
      "metadata": {
        "id": "7Z4O4WOwxZxF",
        "colab_type": "code",
        "colab": {
          "base_uri": "https://localhost:8080/",
          "height": 70
        },
        "outputId": "b92317af-09c5-493f-954f-c46661c016fe"
      },
      "source": [
        "print(eigenvectors)"
      ],
      "execution_count": null,
      "outputs": [
        {
          "output_type": "stream",
          "text": [
            "[[-0.35708982 -0.95025527 -0.77669562]\n",
            " [ 0.81444203 -0.25916053  0.17027001]\n",
            " [-0.45735221 -0.17277369  0.60642562]]\n"
          ],
          "name": "stdout"
        }
      ]
    },
    {
      "cell_type": "code",
      "metadata": {
        "id": "fIega3WuwrtS",
        "colab_type": "code",
        "colab": {
          "base_uri": "https://localhost:8080/",
          "height": 35
        },
        "outputId": "8b136487-a54f-4c98-c94d-28179257d98c"
      },
      "source": [
        "def Verifica_diagonal_dominante(X):\n",
        "  D = np.diag(np.abs(X)) # Find diagonal coefficients\n",
        "  S = np.sum(np.abs(X), axis=1) - D # Find row sum without diagonal\n",
        "  if np.all(D > S):\n",
        "    STATUS='matrix is diagonally dominant'\n",
        "  else:\n",
        "    STATUS='NOT diagonally dominant'\n",
        "  return STATUS\n",
        "\n",
        "Verifica=Verifica_diagonal_dominante(A)\n",
        "print(Verifica)"
      ],
      "execution_count": null,
      "outputs": [
        {
          "output_type": "stream",
          "text": [
            "matrix is diagonally dominant\n"
          ],
          "name": "stdout"
        }
      ]
    },
    {
      "cell_type": "code",
      "metadata": {
        "id": "hGIb7Wpz_rS7",
        "colab_type": "code",
        "colab": {
          "base_uri": "https://localhost:8080/",
          "height": 52
        },
        "outputId": "532c6492-7da7-44b9-d1f9-766603dc10c2"
      },
      "source": [
        "U, s, V = np.linalg.svd(A)\n",
        "print(s)\n",
        "print(max(s)/min(s))"
      ],
      "execution_count": null,
      "outputs": [
        {
          "output_type": "stream",
          "text": [
            "[1.04239799 0.73328446 0.34014751]\n",
            "3.0645468417792747\n"
          ],
          "name": "stdout"
        }
      ]
    }
  ]
}