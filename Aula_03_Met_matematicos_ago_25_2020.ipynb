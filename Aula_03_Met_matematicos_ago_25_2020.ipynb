{
  "nbformat": 4,
  "nbformat_minor": 0,
  "metadata": {
    "colab": {
      "name": "Aula_03_Met_matematicos_ago_25_2020.ipynb",
      "provenance": [],
      "authorship_tag": "ABX9TyNCLEC+iYsP9zdlvUV261el",
      "include_colab_link": true
    },
    "kernelspec": {
      "name": "python3",
      "display_name": "Python 3"
    }
  },
  "cells": [
    {
      "cell_type": "markdown",
      "metadata": {
        "id": "view-in-github",
        "colab_type": "text"
      },
      "source": [
        "<a href=\"https://colab.research.google.com/github/WFVieira-hub/Met_Matematicos/blob/master/Aula_03_Met_matematicos_ago_25_2020.ipynb\" target=\"_parent\"><img src=\"https://colab.research.google.com/assets/colab-badge.svg\" alt=\"Open In Colab\"/></a>"
      ]
    },
    {
      "cell_type": "code",
      "metadata": {
        "id": "PAgnmnjjyrdN",
        "colab_type": "code",
        "colab": {
          "base_uri": "https://localhost:8080/",
          "height": 151
        },
        "outputId": "c9f40b60-9341-4ac8-d46f-7d3f9f3947b2"
      },
      "source": [
        "# Carregamento do local e do arquivo\n",
        "\n",
        "!git clone https://github.com/WFVieira-hub/Met_Matematicos # clonar do github\n",
        "%cd Met_Matematicos\n",
        "\n",
        "from Lista_func_NN import Lista\n",
        "w=Lista(5)\n",
        "print(w)\n"
      ],
      "execution_count": 3,
      "outputs": [
        {
          "output_type": "stream",
          "text": [
            "Cloning into 'Met_Matematicos'...\n",
            "remote: Enumerating objects: 21, done.\u001b[K\n",
            "remote: Counting objects: 100% (21/21), done.\u001b[K\n",
            "remote: Compressing objects: 100% (19/19), done.\u001b[K\n",
            "remote: Total 21 (delta 8), reused 0 (delta 0), pack-reused 0\u001b[K\n",
            "Unpacking objects: 100% (21/21), done.\n",
            "/content/Met_Matematicos/Met_Matematicos/Met_Matematicos\n",
            "[[0, 1, 2, 3, 4], [0, 1, 2, 3, 4], [0, 1, 2, 3, 4], [0, 1, 2, 3, 4], [0, 1, 2, 3, 4]]\n"
          ],
          "name": "stdout"
        }
      ]
    }
  ]
}