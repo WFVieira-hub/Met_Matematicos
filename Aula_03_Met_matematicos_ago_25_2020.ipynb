{
  "nbformat": 4,
  "nbformat_minor": 0,
  "metadata": {
    "colab": {
      "name": "Aula_03_Met_matematicos_ago_25_2020.ipynb",
      "provenance": [],
      "authorship_tag": "ABX9TyOEemTns7JiGInWJZKeHW3j",
      "include_colab_link": true
    },
    "kernelspec": {
      "name": "python3",
      "display_name": "Python 3"
    }
  },
  "cells": [
    {
      "cell_type": "markdown",
      "metadata": {
        "id": "view-in-github",
        "colab_type": "text"
      },
      "source": [
        "<a href=\"https://colab.research.google.com/github/WFVieira-hub/Met_Matematicos/blob/master/Aula_03_Met_matematicos_ago_25_2020.ipynb\" target=\"_parent\"><img src=\"https://colab.research.google.com/assets/colab-badge.svg\" alt=\"Open In Colab\"/></a>"
      ]
    },
    {
      "cell_type": "code",
      "metadata": {
        "id": "PAgnmnjjyrdN",
        "colab_type": "code",
        "colab": {
          "base_uri": "https://localhost:8080/",
          "height": 84
        },
        "outputId": "4817d212-4db5-460f-95ff-7cbb65da97da"
      },
      "source": [
        "# Carregamento do local e do arquivo\n",
        "\n",
        "!git clone https://github.com/WFVieira-hub/Met_Matematicos # clonar do github\n",
        "%cd Met_Matematicos\n",
        "\n",
        "##from Lista_func_NN import Lista\n",
        "#w=Lista(5)\n",
        "#print(w)\n"
      ],
      "execution_count": 11,
      "outputs": [
        {
          "output_type": "stream",
          "text": [
            "Cloning into 'Met_Matematicos'...\n",
            "fatal: could not read Username for 'https://github.com': No such device or address\n",
            "[Errno 2] No such file or directory: 'Met_Matematicos'\n",
            "/content\n"
          ],
          "name": "stdout"
        }
      ]
    }
  ]
}